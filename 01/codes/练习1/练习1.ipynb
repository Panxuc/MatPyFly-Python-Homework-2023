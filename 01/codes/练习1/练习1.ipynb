{
 "cells": [
  {
   "attachments": {},
   "cell_type": "markdown",
   "metadata": {},
   "source": [
    "### 1 两数和\n",
    "\n",
    "题目见 https://leetcode-cn.com/problems/two-sum/ ,可在网页上将编程语言选择为python并提交验证自己的代码检验正确性\n",
    "\n",
    "本题答案可提交代码，也可提交代码通过的截图\n",
    "\n",
    "### 2 字符串压缩\n",
    "\n",
    "题目见 https://leetcode-cn.com/problems/compress-string-lcci/ ,可在网页上将编程语言选择为python并提交验证自己的代码检验正确性\n",
    "\n",
    "本题答案可提交代码，也可提交代码通过的截图\n",
    "\n",
    "\n",
    "### 3 文件读写\n",
    "\n",
    "读取附件中的`dec.txt`文件,读取文件各行**十进制数据**`(x,y)`,并转化为**8位二进制补码**,输出到`bin.txt`文件中。\n",
    "\n",
    "关于补码的概念可以查看百度百科 https://baike.baidu.com/item/%E8%A1%A5%E7%A0%81/6854613 。简单来说，补码是一种表示正负数的方案。对于正数，补码直接用该数的二进制表示，如`5`表示为`00000101`;对于负数，它的补码应该满足“和正数的补码相加为零”这一条件，比如`-5`表示为`11111001`。\n",
    "\n",
    "例:\n",
    "____________________\n",
    "输入文件格式:\n",
    "\n",
    "(1,2)\n",
    "\n",
    "...\n",
    "\n",
    "(-3,4)\n",
    "____________________\n",
    "输出文件格式:\n",
    "\n",
    "(00000001,00000010)\n",
    "\n",
    "...\n",
    "\n",
    "(111111101,00000100)\n",
    "____________________\n",
    "\n",
    "提示：可以用`bin()`函数或者模板字符串完成数值到二进制的转换"
   ]
  }
 ],
 "metadata": {
  "kernelspec": {
   "display_name": "Python 3",
   "language": "python",
   "name": "python3"
  },
  "language_info": {
   "name": "python",
   "version": "3.10.9 (main, Dec 19 2022, 17:35:49) [GCC 12.2.0]"
  },
  "orig_nbformat": 4,
  "vscode": {
   "interpreter": {
    "hash": "767d51c1340bd893661ea55ea3124f6de3c7a262a8b4abca0554b478b1e2ff90"
   }
  }
 },
 "nbformat": 4,
 "nbformat_minor": 2
}
